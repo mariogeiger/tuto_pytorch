{
 "cells": [
  {
   "cell_type": "markdown",
   "metadata": {},
   "source": [
    "# Python"
   ]
  },
  {
   "cell_type": "code",
   "execution_count": 1,
   "metadata": {},
   "outputs": [
    {
     "data": {
      "text/plain": [
       "2"
      ]
     },
     "execution_count": 1,
     "metadata": {},
     "output_type": "execute_result"
    }
   ],
   "source": [
    "1 + 1"
   ]
  },
  {
   "cell_type": "code",
   "execution_count": 2,
   "metadata": {},
   "outputs": [
    {
     "data": {
      "text/plain": [
       "10"
      ]
     },
     "execution_count": 2,
     "metadata": {},
     "output_type": "execute_result"
    }
   ],
   "source": [
    "x = 0\n",
    "y = [1, 2, 3, 4]\n",
    "for a in y:\n",
    "    x = x + a\n",
    "x"
   ]
  },
  {
   "cell_type": "markdown",
   "metadata": {},
   "source": [
    "# In python, variables are pointers\n",
    "except basic types like `int`, `float`, `bool`"
   ]
  },
  {
   "cell_type": "code",
   "execution_count": 3,
   "metadata": {
    "scrolled": true
   },
   "outputs": [
    {
     "name": "stdout",
     "output_type": "stream",
     "text": [
      "[1, 2, 3, 4] [1, 2, 3, 4]\n"
     ]
    }
   ],
   "source": [
    "x = [1, 2, 3]\n",
    "y = x\n",
    "x.append(4)\n",
    "print(x, y)"
   ]
  },
  {
   "cell_type": "code",
   "execution_count": 4,
   "metadata": {},
   "outputs": [
    {
     "name": "stdout",
     "output_type": "stream",
     "text": [
      "[[1], 2, 3, 4]\n",
      "[[1, 8], 2, 3, 4]\n"
     ]
    }
   ],
   "source": [
    "x = [[1], 2]\n",
    "y = [3, 4]\n",
    "z = x + y\n",
    "print(z)\n",
    "x.append(5)\n",
    "x[0].append(8)\n",
    "print(z)"
   ]
  },
  {
   "cell_type": "markdown",
   "metadata": {},
   "source": [
    "# pytorch as a tensor library\n",
    "like numpy"
   ]
  },
  {
   "cell_type": "code",
   "execution_count": 5,
   "metadata": {},
   "outputs": [],
   "source": [
    "import torch"
   ]
  },
  {
   "cell_type": "code",
   "execution_count": 6,
   "metadata": {},
   "outputs": [
    {
     "name": "stdout",
     "output_type": "stream",
     "text": [
      "1.1.0\n"
     ]
    }
   ],
   "source": [
    "print(torch.__version__)"
   ]
  },
  {
   "cell_type": "code",
   "execution_count": 7,
   "metadata": {},
   "outputs": [
    {
     "name": "stdout",
     "output_type": "stream",
     "text": [
      "tensor([ 4., 10., 18.])\n"
     ]
    }
   ],
   "source": [
    "x = torch.tensor([1.0, 2.0, 3.0])\n",
    "y = torch.tensor([3.0, 4.0, 5.0])\n",
    "\n",
    "z = x * y + x\n",
    "print(z)"
   ]
  },
  {
   "cell_type": "code",
   "execution_count": 8,
   "metadata": {},
   "outputs": [
    {
     "name": "stdout",
     "output_type": "stream",
     "text": [
      "tensor([ 4., 10., 18.])\n",
      "tensor([ 3.,  8., 15.])\n"
     ]
    }
   ],
   "source": [
    "x = torch.tensor([1.0, 2.0, 3.0])\n",
    "y = torch.tensor([3.0, 4.0, 5.0])\n",
    "x.add_(y.mul_(x))\n",
    "\n",
    "print(x)\n",
    "print(y)"
   ]
  },
  {
   "cell_type": "code",
   "execution_count": 9,
   "metadata": {},
   "outputs": [
    {
     "name": "stdout",
     "output_type": "stream",
     "text": [
      "tensor([[2., 3.],\n",
      "        [0., 1.]])\n",
      "torch.Size([2, 2])\n",
      "2\n",
      "tensor([2., 3., 0., 1.])\n"
     ]
    }
   ],
   "source": [
    "x = torch.tensor([[2.0, 3.0], [0.0, 1.0]])\n",
    "print(x)\n",
    "print(x.size())\n",
    "print(x.dim())\n",
    "print(x.flatten())"
   ]
  },
  {
   "cell_type": "code",
   "execution_count": 10,
   "metadata": {},
   "outputs": [
    {
     "name": "stdout",
     "output_type": "stream",
     "text": [
      "tensor([[ 2., 30.],\n",
      "        [ 0., 10.]])\n"
     ]
    }
   ],
   "source": [
    "x = torch.tensor([[2.0, 3.0], [0.0, 1.0]])\n",
    "y = torch.tensor([[1.0, 0.0], [0.0, 10.0]])\n",
    "print(x @ y)"
   ]
  },
  {
   "cell_type": "code",
   "execution_count": 11,
   "metadata": {},
   "outputs": [
    {
     "name": "stdout",
     "output_type": "stream",
     "text": [
      "tensor([[0.8780, 0.0263, 0.6878],\n",
      "        [0.3188, 0.4846, 0.9074]])\n",
      "tensor([[ 1.6167,  1.5080, -1.6189],\n",
      "        [ 0.8621,  1.2440, -0.1501]])\n",
      "tensor([[97, 32, 32],\n",
      "        [47, 29, 19]])\n",
      "tensor([3, 5, 6, 2, 4, 1, 7, 0])\n"
     ]
    }
   ],
   "source": [
    "# random\n",
    "print(torch.rand(2, 3))\n",
    "print(torch.randn(2, 3))\n",
    "print(torch.randint(0, 100, size=(2, 3)))\n",
    "print(torch.randperm(8))"
   ]
  },
  {
   "cell_type": "code",
   "execution_count": 12,
   "metadata": {},
   "outputs": [
    {
     "name": "stdout",
     "output_type": "stream",
     "text": [
      "tensor([1., 1., 1.], dtype=torch.float64)\n",
      "tensor([[1., 1., 1., 1., 1.],\n",
      "        [1., 1., 1., 1., 1.],\n",
      "        [1., 1., 1., 1., 1.],\n",
      "        [1., 1., 1., 1., 1.]], dtype=torch.float64)\n"
     ]
    }
   ],
   "source": [
    "# creation\n",
    "x = torch.tensor([1, 2, 3], dtype=torch.float64, device='cpu')\n",
    "y = torch.ones(3, 3, dtype=torch.float64, device='cpu')\n",
    "\n",
    "w = torch.ones_like(x)  # torch.zeros_like, torch.empty_like, torch.randn_like, ...\n",
    "print(w)\n",
    "\n",
    "z = x.new_ones(4, 5)  # x.new_empty(4), x.new_full((2, 3), 42)\n",
    "print(z)"
   ]
  },
  {
   "cell_type": "code",
   "execution_count": 13,
   "metadata": {},
   "outputs": [
    {
     "name": "stdout",
     "output_type": "stream",
     "text": [
      "tensor(2, dtype=torch.uint8)\n",
      "tensor(2)\n",
      "tensor(2.)\n",
      "tensor(2., dtype=torch.float64)\n"
     ]
    }
   ],
   "source": [
    "x1 = torch.tensor(1, dtype=torch.uint8)\n",
    "x2 = torch.tensor(1, dtype=torch.int64)\n",
    "x3 = torch.tensor(1, dtype=torch.float32)\n",
    "x4 = torch.tensor(1, dtype=torch.float64)\n",
    "\n",
    "print(x1 + x1)\n",
    "print(x1 + x2)\n",
    "print(x2 + x3)\n",
    "print(x3 + x4)"
   ]
  },
  {
   "cell_type": "code",
   "execution_count": 14,
   "metadata": {},
   "outputs": [
    {
     "name": "stdout",
     "output_type": "stream",
     "text": [
      "tensor(1., dtype=torch.float64)\n",
      "tensor(1.)\n"
     ]
    }
   ],
   "source": [
    "x = torch.tensor(1, dtype=torch.uint8)\n",
    "print(x.double())\n",
    "print(x.type(torch.float32))"
   ]
  },
  {
   "cell_type": "code",
   "execution_count": 15,
   "metadata": {},
   "outputs": [
    {
     "name": "stdout",
     "output_type": "stream",
     "text": [
      "tensor([1, 0, 0], dtype=torch.uint8)\n",
      "tensor([0, 1, 0], dtype=torch.uint8)\n"
     ]
    }
   ],
   "source": [
    "x = torch.tensor([1, 2, 3], dtype=torch.float32)\n",
    "y = torch.tensor([1, 4, 0], dtype=torch.float32)\n",
    "\n",
    "print(x == y)\n",
    "print(x < y)"
   ]
  },
  {
   "cell_type": "code",
   "execution_count": 16,
   "metadata": {},
   "outputs": [
    {
     "name": "stdout",
     "output_type": "stream",
     "text": [
      "tensor([0., 1., 2., 3., 4., 5., 6., 7., 8., 9.], dtype=torch.float64)\n",
      "tensor(3., dtype=torch.float64)\n",
      "tensor([3., 4.], dtype=torch.float64)\n",
      "tensor([0., 3., 5., 6.], dtype=torch.float64)\n",
      "tensor([0., 2., 4., 6., 8.], dtype=torch.float64)\n"
     ]
    }
   ],
   "source": [
    "# indexing\n",
    "x = torch.arange(10, dtype=torch.float64)\n",
    "print(x)\n",
    "\n",
    "print(x[3])\n",
    "\n",
    "print(x[3:5])\n",
    "\n",
    "print(x[[0, 3, 5, 6]])\n",
    "\n",
    "print(x[::2])"
   ]
  },
  {
   "cell_type": "code",
   "execution_count": 17,
   "metadata": {},
   "outputs": [
    {
     "name": "stdout",
     "output_type": "stream",
     "text": [
      "tensor([ 0, 10, 20, 30, 40, 50, 60, 70, 80, 90])\n",
      "tensor([10, 60, 80, 90])\n",
      "tensor([10, 40, 70])\n"
     ]
    }
   ],
   "source": [
    "# indexing by mask\n",
    "x = 10 * torch.arange(10)\n",
    "print(x)\n",
    "\n",
    "m = torch.tensor([0, 1, 0, 0, 0, 0, 1, 0, 1, 1], dtype=torch.uint8)  # dtype=torch.int64 will behave differently\n",
    "print(x[m])\n",
    "\n",
    "m = (x % 3 == 1)\n",
    "print(x[m])"
   ]
  },
  {
   "cell_type": "code",
   "execution_count": 18,
   "metadata": {},
   "outputs": [
    {
     "name": "stdout",
     "output_type": "stream",
     "text": [
      "tensor([ 0.,  1.,  2.,  3.,  4.,  5.,  6.,  7.,  8.,  9., 10., 11.])\n",
      "tensor([[ 0.,  1.,  2.,  3.],\n",
      "        [ 4.,  5.,  6.,  7.],\n",
      "        [ 8.,  9., 10., 11.]])\n"
     ]
    }
   ],
   "source": [
    "# reshape\n",
    "x = torch.arange(12, dtype=torch.float32)\n",
    "print(x)\n",
    "\n",
    "x = x.view(3, 4)\n",
    "print(x)"
   ]
  },
  {
   "cell_type": "code",
   "execution_count": 19,
   "metadata": {},
   "outputs": [
    {
     "name": "stdout",
     "output_type": "stream",
     "text": [
      "tensor([[ 0.,  1.,  2.,  3.],\n",
      "        [ 4.,  5.,  6.,  7.],\n",
      "        [ 8.,  9., 10., 11.]])\n",
      "tensor([12., 15., 18., 21.])\n",
      "tensor([ 6., 22., 38.])\n"
     ]
    }
   ],
   "source": [
    "# reduction\n",
    "x = torch.arange(12, dtype=torch.float32).view(3, 4)\n",
    "print(x)\n",
    "\n",
    "print(x.sum(0))\n",
    "print(x.sum(1))\n",
    "\n",
    "# x.mean, x.min, x.max, x.prod"
   ]
  },
  {
   "cell_type": "code",
   "execution_count": 20,
   "metadata": {},
   "outputs": [
    {
     "name": "stdout",
     "output_type": "stream",
     "text": [
      "tensor([1., 2., 3.])\n"
     ]
    }
   ],
   "source": [
    "x = torch.tensor([1.0, 2.0, 3.0])\n",
    "\n",
    "# y = x\n",
    "y = x.clone()\n",
    "\n",
    "# x.add_(1)\n",
    "x += 1\n",
    "# x = x + 1\n",
    "\n",
    "print(y)"
   ]
  },
  {
   "cell_type": "markdown",
   "metadata": {},
   "source": [
    "# Run on the GPU"
   ]
  },
  {
   "cell_type": "code",
   "execution_count": 21,
   "metadata": {},
   "outputs": [
    {
     "name": "stdout",
     "output_type": "stream",
     "text": [
      "tensor([ 4., 10., 18.], device='cuda:0')\n"
     ]
    }
   ],
   "source": [
    "x = torch.tensor([1.0, 2.0, 3.0], device='cuda')\n",
    "y = torch.tensor([3.0, 4.0, 5.0], device='cuda')\n",
    "\n",
    "z = x * y + x\n",
    "print(z)"
   ]
  },
  {
   "cell_type": "markdown",
   "metadata": {},
   "source": [
    "# The power of pytoch: torch.autograd"
   ]
  },
  {
   "cell_type": "code",
   "execution_count": 22,
   "metadata": {},
   "outputs": [
    {
     "data": {
      "text/plain": [
       "(tensor(2.5000),)"
      ]
     },
     "execution_count": 22,
     "metadata": {},
     "output_type": "execute_result"
    }
   ],
   "source": [
    "x = torch.tensor(2.5, requires_grad=True)\n",
    "y = 0.5 * x ** 2\n",
    "\n",
    "torch.autograd.grad(y, x)"
   ]
  },
  {
   "cell_type": "code",
   "execution_count": 23,
   "metadata": {},
   "outputs": [
    {
     "data": {
      "text/plain": [
       "(tensor(1.), tensor([2., 4., 0.]))"
      ]
     },
     "execution_count": 23,
     "metadata": {},
     "output_type": "execute_result"
    }
   ],
   "source": [
    "x = torch.tensor(2.0, requires_grad=True)\n",
    "a = torch.tensor([1.0, 0.0, 0.0], requires_grad=True)\n",
    "y = x * a[0] + x ** 2 * a[1]\n",
    "\n",
    "torch.autograd.grad(y, [x, a])"
   ]
  },
  {
   "cell_type": "code",
   "execution_count": 24,
   "metadata": {},
   "outputs": [
    {
     "data": {
      "image/svg+xml": [
       "<?xml version=\"1.0\" encoding=\"UTF-8\" standalone=\"no\"?>\n",
       "<!DOCTYPE svg PUBLIC \"-//W3C//DTD SVG 1.1//EN\"\n",
       " \"http://www.w3.org/Graphics/SVG/1.1/DTD/svg11.dtd\">\n",
       "<!-- Generated by graphviz version 2.40.1 (20161225.0304)\n",
       " -->\n",
       "<!-- Title: %3 Pages: 1 -->\n",
       "<svg width=\"156pt\" height=\"270pt\"\n",
       " viewBox=\"0.00 0.00 155.50 270.00\" xmlns=\"http://www.w3.org/2000/svg\" xmlns:xlink=\"http://www.w3.org/1999/xlink\">\n",
       "<g id=\"graph0\" class=\"graph\" transform=\"scale(1 1) rotate(0) translate(4 266)\">\n",
       "<title>%3</title>\n",
       "<polygon fill=\"#ffffff\" stroke=\"transparent\" points=\"-4,4 -4,-266 151.5,-266 151.5,4 -4,4\"/>\n",
       "<!-- 139847776689120 -->\n",
       "<g id=\"node1\" class=\"node\">\n",
       "<title>139847776689120</title>\n",
       "<polygon fill=\"#caff70\" stroke=\"#000000\" points=\"109,-21 17,-21 17,0 109,0 109,-21\"/>\n",
       "<text text-anchor=\"middle\" x=\"63\" y=\"-7.4\" font-family=\"Times,serif\" font-size=\"12.00\" fill=\"#000000\">AddBackward0</text>\n",
       "</g>\n",
       "<!-- 139847776689680 -->\n",
       "<g id=\"node2\" class=\"node\">\n",
       "<title>139847776689680</title>\n",
       "<polygon fill=\"#d3d3d3\" stroke=\"#000000\" points=\"145.5,-78 54.5,-78 54.5,-57 145.5,-57 145.5,-78\"/>\n",
       "<text text-anchor=\"middle\" x=\"100\" y=\"-64.4\" font-family=\"Times,serif\" font-size=\"12.00\" fill=\"#000000\">MulBackward0</text>\n",
       "</g>\n",
       "<!-- 139847776689680&#45;&gt;139847776689120 -->\n",
       "<g id=\"edge1\" class=\"edge\">\n",
       "<title>139847776689680&#45;&gt;139847776689120</title>\n",
       "<path fill=\"none\" stroke=\"#000000\" d=\"M93.0406,-56.7787C88.0793,-49.1357 81.2744,-38.6524 75.3956,-29.596\"/>\n",
       "<polygon fill=\"#000000\" stroke=\"#000000\" points=\"78.3087,-27.6553 69.9282,-21.1732 72.4372,-31.4667 78.3087,-27.6553\"/>\n",
       "</g>\n",
       "<!-- 139847776689848 -->\n",
       "<g id=\"node3\" class=\"node\">\n",
       "<title>139847776689848</title>\n",
       "<polygon fill=\"#d3d3d3\" stroke=\"#000000\" points=\"147.5,-135 54.5,-135 54.5,-114 147.5,-114 147.5,-135\"/>\n",
       "<text text-anchor=\"middle\" x=\"101\" y=\"-121.4\" font-family=\"Times,serif\" font-size=\"12.00\" fill=\"#000000\">PowBackward0</text>\n",
       "</g>\n",
       "<!-- 139847776689848&#45;&gt;139847776689680 -->\n",
       "<g id=\"edge2\" class=\"edge\">\n",
       "<title>139847776689848&#45;&gt;139847776689680</title>\n",
       "<path fill=\"none\" stroke=\"#000000\" d=\"M100.8119,-113.7787C100.6862,-106.6134 100.5167,-96.9517 100.3651,-88.3097\"/>\n",
       "<polygon fill=\"#000000\" stroke=\"#000000\" points=\"103.8622,-88.1102 100.1872,-78.1732 96.8633,-88.2331 103.8622,-88.1102\"/>\n",
       "</g>\n",
       "<!-- 139847776720040 -->\n",
       "<g id=\"node4\" class=\"node\">\n",
       "<title>139847776720040</title>\n",
       "<polygon fill=\"#d3d3d3\" stroke=\"#000000\" points=\"146,-192 54,-192 54,-171 146,-171 146,-192\"/>\n",
       "<text text-anchor=\"middle\" x=\"100\" y=\"-178.4\" font-family=\"Times,serif\" font-size=\"12.00\" fill=\"#000000\">AddBackward0</text>\n",
       "</g>\n",
       "<!-- 139847776720040&#45;&gt;139847776689848 -->\n",
       "<g id=\"edge3\" class=\"edge\">\n",
       "<title>139847776720040&#45;&gt;139847776689848</title>\n",
       "<path fill=\"none\" stroke=\"#000000\" d=\"M100.1881,-170.7787C100.3138,-163.6134 100.4833,-153.9517 100.6349,-145.3097\"/>\n",
       "<polygon fill=\"#000000\" stroke=\"#000000\" points=\"104.1367,-145.2331 100.8128,-135.1732 97.1378,-145.1102 104.1367,-145.2331\"/>\n",
       "</g>\n",
       "<!-- 139847776689624 -->\n",
       "<g id=\"node5\" class=\"node\">\n",
       "<title>139847776689624</title>\n",
       "<polygon fill=\"#add8e6\" stroke=\"#000000\" points=\"54,-262 0,-262 0,-228 54,-228 54,-262\"/>\n",
       "<text text-anchor=\"middle\" x=\"27\" y=\"-248.4\" font-family=\"Times,serif\" font-size=\"12.00\" fill=\"#000000\">x</text>\n",
       "<text text-anchor=\"middle\" x=\"27\" y=\"-235.4\" font-family=\"Times,serif\" font-size=\"12.00\" fill=\"#000000\"> ()</text>\n",
       "</g>\n",
       "<!-- 139847776689624&#45;&gt;139847776689120 -->\n",
       "<g id=\"edge6\" class=\"edge\">\n",
       "<title>139847776689624&#45;&gt;139847776689120</title>\n",
       "<path fill=\"none\" stroke=\"#000000\" d=\"M27.3053,-227.9176C28.2112,-194.6184 31.8,-118.8693 46,-57 48.028,-48.1642 51.2704,-38.7162 54.3824,-30.6603\"/>\n",
       "<polygon fill=\"#000000\" stroke=\"#000000\" points=\"57.6427,-31.9339 58.1533,-21.3514 51.1548,-29.3057 57.6427,-31.9339\"/>\n",
       "</g>\n",
       "<!-- 139847776689624&#45;&gt;139847776720040 -->\n",
       "<g id=\"edge4\" class=\"edge\">\n",
       "<title>139847776689624&#45;&gt;139847776720040</title>\n",
       "<path fill=\"none\" stroke=\"#000000\" d=\"M46.5627,-227.9832C56.8267,-219.0549 69.3867,-208.1294 79.7505,-199.1143\"/>\n",
       "<polygon fill=\"#000000\" stroke=\"#000000\" points=\"82.2574,-201.5725 87.5053,-192.3687 77.6633,-196.291 82.2574,-201.5725\"/>\n",
       "</g>\n",
       "<!-- 139847776721608 -->\n",
       "<g id=\"node6\" class=\"node\">\n",
       "<title>139847776721608</title>\n",
       "<polygon fill=\"#add8e6\" stroke=\"#000000\" points=\"127,-262 73,-262 73,-228 127,-228 127,-262\"/>\n",
       "<text text-anchor=\"middle\" x=\"100\" y=\"-248.4\" font-family=\"Times,serif\" font-size=\"12.00\" fill=\"#000000\">y</text>\n",
       "<text text-anchor=\"middle\" x=\"100\" y=\"-235.4\" font-family=\"Times,serif\" font-size=\"12.00\" fill=\"#000000\"> ()</text>\n",
       "</g>\n",
       "<!-- 139847776721608&#45;&gt;139847776720040 -->\n",
       "<g id=\"edge5\" class=\"edge\">\n",
       "<title>139847776721608&#45;&gt;139847776720040</title>\n",
       "<path fill=\"none\" stroke=\"#000000\" d=\"M100,-227.9832C100,-220.1157 100,-210.6973 100,-202.4019\"/>\n",
       "<polygon fill=\"#000000\" stroke=\"#000000\" points=\"103.5001,-202.3686 100,-192.3687 96.5001,-202.3687 103.5001,-202.3686\"/>\n",
       "</g>\n",
       "</g>\n",
       "</svg>\n"
      ],
      "text/plain": [
       "<graphviz.dot.Digraph at 0x7f30d90d5a20>"
      ]
     },
     "execution_count": 24,
     "metadata": {},
     "output_type": "execute_result"
    }
   ],
   "source": [
    "import torchviz\n",
    "\n",
    "x = torch.tensor(2.5, requires_grad=True)\n",
    "y = torch.tensor(2.5, requires_grad=True)\n",
    "\n",
    "z = x + y\n",
    "z = 0.5 * z ** 2\n",
    "z += x\n",
    "\n",
    "torchviz.make_dot(z, {'x': x, 'y': y})"
   ]
  },
  {
   "cell_type": "code",
   "execution_count": null,
   "metadata": {},
   "outputs": [],
   "source": []
  },
  {
   "cell_type": "code",
   "execution_count": 25,
   "metadata": {},
   "outputs": [
    {
     "name": "stdout",
     "output_type": "stream",
     "text": [
      "None\n",
      "tensor(2.5000)\n",
      "tensor(3.5000)\n",
      "tensor(5.)\n"
     ]
    }
   ],
   "source": [
    "# torch.autograd.backward\n",
    "\n",
    "x = torch.tensor(2.5, requires_grad=True)\n",
    "print(x.grad)\n",
    "\n",
    "y = 0.5 * x ** 2\n",
    "torch.autograd.backward(y)\n",
    "print(x.grad)\n",
    "\n",
    "y = x + 42\n",
    "torch.autograd.backward(y)\n",
    "print(x.grad)\n",
    "\n",
    "x.grad = None\n",
    "y = x ** 2\n",
    "torch.autograd.backward(y)\n",
    "print(x.grad)"
   ]
  },
  {
   "cell_type": "code",
   "execution_count": 26,
   "metadata": {},
   "outputs": [
    {
     "data": {
      "text/plain": [
       "(tensor(1.), tensor(1.))"
      ]
     },
     "execution_count": 26,
     "metadata": {},
     "output_type": "execute_result"
    }
   ],
   "source": [
    "x = torch.tensor(2.5, requires_grad=True)\n",
    "y = torch.tensor(2.5, requires_grad=True)\n",
    "\n",
    "with torch.no_grad():\n",
    "    x.add_(y)\n",
    "\n",
    "z = x + y\n",
    "\n",
    "torch.autograd.grad(z, [x, y])"
   ]
  },
  {
   "cell_type": "code",
   "execution_count": 27,
   "metadata": {},
   "outputs": [
    {
     "name": "stdout",
     "output_type": "stream",
     "text": [
      "tensor(5., grad_fn=<MulBackward0>)\n",
      "tensor(2.)\n"
     ]
    }
   ],
   "source": [
    "# higher order derivatives\n",
    "\n",
    "x = torch.tensor(2.5, requires_grad=True)\n",
    "y = x ** 2\n",
    "\n",
    "z, = torch.autograd.grad(y, x, create_graph=True)\n",
    "print(z)\n",
    "\n",
    "w, = torch.autograd.grad(z, x)\n",
    "print(w)"
   ]
  },
  {
   "cell_type": "markdown",
   "metadata": {},
   "source": [
    "# Load MNIST"
   ]
  },
  {
   "cell_type": "code",
   "execution_count": 28,
   "metadata": {},
   "outputs": [],
   "source": [
    "import torchvision"
   ]
  },
  {
   "cell_type": "code",
   "execution_count": 29,
   "metadata": {},
   "outputs": [],
   "source": [
    "dataset = torchvision.datasets.MNIST('some_directory', train=True, download=True)"
   ]
  },
  {
   "cell_type": "code",
   "execution_count": 30,
   "metadata": {},
   "outputs": [
    {
     "data": {
      "text/plain": [
       "(<PIL.Image.Image image mode=L size=28x28 at 0x7F30D063A668>, 5)"
      ]
     },
     "execution_count": 30,
     "metadata": {},
     "output_type": "execute_result"
    }
   ],
   "source": [
    "dataset[0]"
   ]
  },
  {
   "cell_type": "code",
   "execution_count": 31,
   "metadata": {},
   "outputs": [
    {
     "name": "stdout",
     "output_type": "stream",
     "text": [
      "2\n"
     ]
    },
    {
     "data": {
      "text/plain": [
       "<Figure size 640x480 with 1 Axes>"
      ]
     },
     "metadata": {},
     "output_type": "display_data"
    }
   ],
   "source": [
    "x, y = dataset[1034]\n",
    "\n",
    "print(y)\n",
    "\n",
    "import matplotlib.pyplot as plt\n",
    "plt.imshow(x)\n",
    "plt.show()"
   ]
  },
  {
   "cell_type": "code",
   "execution_count": 32,
   "metadata": {},
   "outputs": [],
   "source": [
    "transform = torchvision.transforms.ToTensor()\n",
    "dataset = torchvision.datasets.MNIST('some_directory', train=True, download=True, transform=transform)\n",
    "\n",
    "x_tr = torch.stack([x for x, y in dataset])\n",
    "y_tr = torch.tensor([y for x, y in dataset])"
   ]
  },
  {
   "cell_type": "code",
   "execution_count": 33,
   "metadata": {},
   "outputs": [],
   "source": [
    "x_tr = x_tr.view(-1, 28 * 28)\n",
    "x_tr = (x_tr - x_tr.mean(0)) / x_tr.std()"
   ]
  },
  {
   "cell_type": "markdown",
   "metadata": {},
   "source": [
    "# Perceptron 1\n",
    "using only tensors and autograd"
   ]
  },
  {
   "cell_type": "code",
   "execution_count": 34,
   "metadata": {},
   "outputs": [
    {
     "name": "stdout",
     "output_type": "stream",
     "text": [
      "1.6477725505828857\n",
      "0.550855815410614\n",
      "0.49555572867393494\n",
      "0.4712788164615631\n",
      "0.4562501311302185\n",
      "0.44563519954681396\n",
      "0.4376407563686371\n",
      "0.4313803017139435\n",
      "0.4263419210910797\n",
      "0.4222012758255005\n"
     ]
    }
   ],
   "source": [
    "t_tr = (y_tr % 2).type(x_tr.dtype) * 2 - 1\n",
    "\n",
    "w = torch.randn(28 * 28, requires_grad=True)\n",
    "\n",
    "for step in range(1000):\n",
    "\n",
    "    out = x_tr @ w / 28\n",
    "    \n",
    "    loss = (out - t_tr).pow(2).mean()\n",
    "\n",
    "    if step % 100 == 0:\n",
    "        print(loss.item())\n",
    "\n",
    "    w.grad = None\n",
    "    loss.backward()\n",
    "    \n",
    "    with torch.no_grad():\n",
    "        w.add_(-w.grad)"
   ]
  },
  {
   "cell_type": "code",
   "execution_count": 35,
   "metadata": {},
   "outputs": [
    {
     "data": {
      "text/plain": [
       "tensor(0.1193, dtype=torch.float64)"
      ]
     },
     "execution_count": 35,
     "metadata": {},
     "output_type": "execute_result"
    }
   ],
   "source": [
    "((x_tr @ w) * t_tr <= 0).double().mean()"
   ]
  },
  {
   "cell_type": "code",
   "execution_count": 36,
   "metadata": {
    "scrolled": true
   },
   "outputs": [
    {
     "data": {
      "image/png": "[encoded data removed]",
      "text/plain": [
       "<Figure size 432x288 with 1 Axes>"
      ]
     },
     "metadata": {
      "needs_background": "light"
     },
     "output_type": "display_data"
    }
   ],
   "source": [
    "plt.imshow(w.view(28, 28).detach().numpy())\n",
    "plt.show()"
   ]
  },
  {
   "cell_type": "markdown",
   "metadata": {},
   "source": [
    "### stochastic gradient descent"
   ]
  },
  {
   "cell_type": "code",
   "execution_count": 37,
   "metadata": {},
   "outputs": [
    {
     "name": "stdout",
     "output_type": "stream",
     "text": [
      "2.091620922088623\n",
      "0.49669894576072693\n",
      "0.585693895816803\n",
      "0.48221030831336975\n",
      "0.4782240092754364\n",
      "0.44373536109924316\n",
      "0.397653728723526\n",
      "0.3932430148124695\n",
      "0.461283802986145\n",
      "0.35895681381225586\n",
      "0.3869398832321167\n",
      "0.4116381108760834\n",
      "0.38474932312965393\n",
      "0.41126155853271484\n",
      "0.42071083188056946\n",
      "0.4224065840244293\n",
      "0.4189707636833191\n",
      "0.4816206395626068\n",
      "0.4160251021385193\n",
      "0.46869957447052\n"
     ]
    }
   ],
   "source": [
    "t_tr = (y_tr % 2).type(x_tr.dtype) * 2 - 1\n",
    "\n",
    "w = torch.randn(28 * 28, requires_grad=True)\n",
    "\n",
    "for step in range(20000):\n",
    "    \n",
    "    batch_index = torch.randperm(len(x_tr))[:128]\n",
    "    x_batch = x_tr[batch_index]\n",
    "    t_batch = t_tr[batch_index]\n",
    "\n",
    "    out = x_batch @ w / 28\n",
    "    \n",
    "    loss = (out - t_batch).pow(2).mean()\n",
    "\n",
    "    if step % 1000 == 0:\n",
    "        print(loss.item())\n",
    "\n",
    "    w.grad = None\n",
    "    loss.backward()\n",
    "    \n",
    "    with torch.no_grad():\n",
    "        w.add_(-0.1 * w.grad)"
   ]
  },
  {
   "cell_type": "code",
   "execution_count": 38,
   "metadata": {},
   "outputs": [
    {
     "data": {
      "text/plain": [
       "tensor(0.1121, dtype=torch.float64)"
      ]
     },
     "execution_count": 38,
     "metadata": {},
     "output_type": "execute_result"
    }
   ],
   "source": [
    "((x_tr @ w) * t_tr <= 0).double().mean()"
   ]
  },
  {
   "cell_type": "code",
   "execution_count": 39,
   "metadata": {},
   "outputs": [
    {
     "data": {
      "image/png": "[encoded data removed]",
      "text/plain": [
       "<Figure size 432x288 with 1 Axes>"
      ]
     },
     "metadata": {
      "needs_background": "light"
     },
     "output_type": "display_data"
    }
   ],
   "source": [
    "plt.imshow(w.view(28, 28).detach().numpy())\n",
    "plt.show()"
   ]
  },
  {
   "cell_type": "markdown",
   "metadata": {},
   "source": [
    "# Perceptron 2\n",
    "using `torch.optim`"
   ]
  },
  {
   "cell_type": "code",
   "execution_count": 40,
   "metadata": {},
   "outputs": [
    {
     "name": "stdout",
     "output_type": "stream",
     "text": [
      "2.2498600482940674\n",
      "0.7090131044387817\n",
      "0.5540865659713745\n",
      "0.4148765504360199\n",
      "0.5761732459068298\n",
      "0.37882140278816223\n",
      "0.4812602698802948\n",
      "0.4989309012889862\n",
      "0.5280628800392151\n",
      "0.3711542785167694\n",
      "0.41440272331237793\n",
      "0.3476364016532898\n",
      "0.3202173709869385\n",
      "0.3802429139614105\n",
      "0.40630432963371277\n",
      "0.48754894733428955\n",
      "0.3210947513580322\n",
      "0.4012119472026825\n",
      "0.3448275923728943\n",
      "0.2746381461620331\n"
     ]
    }
   ],
   "source": [
    "t_tr = (y_tr % 2).type(x_tr.dtype) * 2 - 1\n",
    "\n",
    "w = torch.randn(28 * 28, requires_grad=True)\n",
    "\n",
    "optim = torch.optim.Adam([w])\n",
    "\n",
    "for step in range(20000):\n",
    "    \n",
    "    batch_index = torch.randperm(len(x_tr))[:128]\n",
    "\n",
    "    x_batch = x_tr[batch_index]\n",
    "    t_batch = t_tr[batch_index]\n",
    "\n",
    "    out = x_batch @ w / 28\n",
    "    \n",
    "    loss = (out - t_batch).pow(2).mean()\n",
    "\n",
    "    if step % 1000 == 0:\n",
    "        print(loss.item())\n",
    "\n",
    "    optim.zero_grad()\n",
    "    loss.backward()\n",
    "    optim.step()"
   ]
  },
  {
   "cell_type": "code",
   "execution_count": 41,
   "metadata": {},
   "outputs": [
    {
     "data": {
      "text/plain": [
       "tensor(0.1058, dtype=torch.float64)"
      ]
     },
     "execution_count": 41,
     "metadata": {},
     "output_type": "execute_result"
    }
   ],
   "source": [
    "((x_tr @ w) * t_tr <= 0).double().mean()"
   ]
  },
  {
   "cell_type": "markdown",
   "metadata": {},
   "source": [
    "# Perceptron 3\n",
    "using `nn.Module`"
   ]
  },
  {
   "cell_type": "code",
   "execution_count": 42,
   "metadata": {},
   "outputs": [],
   "source": [
    "import torch.nn as nn"
   ]
  },
  {
   "cell_type": "code",
   "execution_count": 43,
   "metadata": {},
   "outputs": [
    {
     "name": "stdout",
     "output_type": "stream",
     "text": [
      "1.1929062604904175\n",
      "0.32809147238731384\n",
      "0.4580201506614685\n",
      "0.3493155539035797\n",
      "0.4876834750175476\n",
      "0.3671339154243469\n",
      "0.4590732157230377\n",
      "0.4902265965938568\n",
      "0.38455212116241455\n",
      "0.34533631801605225\n",
      "0.34207481145858765\n",
      "0.31621184945106506\n",
      "0.41907891631126404\n",
      "0.42153769731521606\n",
      "0.4589869976043701\n",
      "0.44635438919067383\n",
      "0.37795278429985046\n",
      "0.3233325183391571\n",
      "0.4316916763782501\n",
      "0.3261456787586212\n"
     ]
    }
   ],
   "source": [
    "t_tr = (y_tr % 2).type(x_tr.dtype) * 2 - 1\n",
    "\n",
    "perceptron = nn.Linear(28 * 28, 1)\n",
    "\n",
    "optim = torch.optim.Adam(perceptron.parameters())\n",
    "\n",
    "for step in range(20000):\n",
    "    \n",
    "    batch_index = torch.randperm(len(x_tr))[:128]\n",
    "\n",
    "    x_batch = x_tr[batch_index]\n",
    "    t_batch = t_tr[batch_index]\n",
    "\n",
    "    out = perceptron(x_batch).view(-1)\n",
    "    \n",
    "    loss = (out - t_batch).pow(2).mean()\n",
    "\n",
    "    if step % 1000 == 0:\n",
    "        print(loss.item())\n",
    "\n",
    "    optim.zero_grad()\n",
    "    loss.backward()\n",
    "    optim.step()"
   ]
  },
  {
   "cell_type": "code",
   "execution_count": 44,
   "metadata": {},
   "outputs": [
    {
     "data": {
      "text/plain": [
       "tensor(0.1058, dtype=torch.float64)"
      ]
     },
     "execution_count": 44,
     "metadata": {},
     "output_type": "execute_result"
    }
   ],
   "source": [
    "((x_tr @ w) * t_tr <= 0).double().mean()"
   ]
  },
  {
   "cell_type": "code",
   "execution_count": null,
   "metadata": {},
   "outputs": [],
   "source": []
  }
 ],
 "metadata": {
  "kernelspec": {
   "display_name": "Python 3",
   "language": "python",
   "name": "python3"
  },
  "language_info": {
   "codemirror_mode": {
    "name": "ipython",
    "version": 3
   },
   "file_extension": ".py",
   "mimetype": "text/x-python",
   "name": "python",
   "nbconvert_exporter": "python",
   "pygments_lexer": "ipython3",
   "version": "3.6.7"
  }
 },
 "nbformat": 4,
 "nbformat_minor": 2
}
